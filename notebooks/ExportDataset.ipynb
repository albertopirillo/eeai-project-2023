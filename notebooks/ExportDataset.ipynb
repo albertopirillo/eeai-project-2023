{
 "cells": [
  {
   "cell_type": "code",
   "execution_count": null,
   "id": "initial_id",
   "metadata": {
    "collapsed": true,
    "is_executing": true
   },
   "outputs": [],
   "source": [
    "import os\n",
    "from pathlib import Path\n",
    "os.environ['TF_CPP_MIN_LOG_LEVEL'] = '2'"
   ]
  },
  {
   "cell_type": "code",
   "execution_count": null,
   "outputs": [],
   "source": [
    "from dataset import Dataset"
   ],
   "metadata": {
    "collapsed": false,
    "is_executing": true
   },
   "id": "e8c6534688967502"
  },
  {
   "cell_type": "code",
   "execution_count": null,
   "outputs": [],
   "source": [
    "classes = ['C', 'G', 'H', 'nothing', 'Q', 'space', 'no gesture']"
   ],
   "metadata": {
    "collapsed": false,
    "is_executing": true
   },
   "id": "8b65d5d69f27fb7"
  },
  {
   "cell_type": "code",
   "execution_count": null,
   "outputs": [],
   "source": [
    "classic_data = Dataset(split_threshold=0, batch_size=30, path='../data/asl_classic/asl_classic')"
   ],
   "metadata": {
    "collapsed": false,
    "is_executing": true
   },
   "id": "126087a2e77419ca"
  },
  {
   "cell_type": "code",
   "execution_count": null,
   "outputs": [],
   "source": [
    "real_data = Dataset(split_threshold=0, batch_size=15, path='../data/asl_real/asl_real')"
   ],
   "metadata": {
    "collapsed": false,
    "is_executing": true
   },
   "id": "e377d39661c31378"
  },
  {
   "cell_type": "code",
   "execution_count": null,
   "outputs": [],
   "source": [
    "device_data = Dataset(split_threshold=0, batch_size=28, path='../data/asl_device/asl_device', labels=classes)"
   ],
   "metadata": {
    "collapsed": false,
    "is_executing": true
   },
   "id": "3a2b33f0b2a95eef"
  },
  {
   "cell_type": "code",
   "execution_count": null,
   "outputs": [],
   "source": [
    "classic_data.select_classes(classes)\n",
    "real_data.select_classes(classes)"
   ],
   "metadata": {
    "collapsed": false,
    "is_executing": true
   },
   "id": "277b9a35efd28132"
  },
  {
   "cell_type": "code",
   "execution_count": null,
   "outputs": [],
   "source": [
    "classic_data.preprocess(resize=True, crop=True)\n",
    "real_data.preprocess(resize=True, crop=False)\n",
    "device_data.preprocess(resize=True, crop=False)"
   ],
   "metadata": {
    "collapsed": false,
    "is_executing": true
   },
   "id": "392028093a92f5e0"
  },
  {
   "cell_type": "code",
   "execution_count": null,
   "outputs": [],
   "source": [
    "classic_data.train.element_spec, real_data.train.element_spec, device_data.train.element_spec"
   ],
   "metadata": {
    "collapsed": false,
    "is_executing": true
   },
   "id": "ce7b1c97075825f7"
  },
  {
   "cell_type": "code",
   "execution_count": null,
   "outputs": [],
   "source": [
    "classic_data.visualize_images('train', num_images=4)"
   ],
   "metadata": {
    "collapsed": false,
    "is_executing": true
   },
   "id": "6fa4942248df098c"
  },
  {
   "cell_type": "code",
   "execution_count": null,
   "outputs": [],
   "source": [
    "real_data.visualize_images('train', num_images=4)"
   ],
   "metadata": {
    "collapsed": false,
    "is_executing": true
   },
   "id": "cd5d810f3f85a07a"
  },
  {
   "cell_type": "code",
   "execution_count": null,
   "outputs": [],
   "source": [
    "device_data.visualize_images('train', num_images=4)"
   ],
   "metadata": {
    "collapsed": false,
    "is_executing": true
   },
   "id": "7c0cd314325bddb7"
  },
  {
   "cell_type": "code",
   "execution_count": null,
   "outputs": [],
   "source": [
    "classic_data.export('train', '../data/asl_classic/preprocessed', 'classic', subsample=True)"
   ],
   "metadata": {
    "collapsed": false,
    "is_executing": true
   },
   "id": "d54d42b641151a15"
  },
  {
   "cell_type": "code",
   "execution_count": null,
   "outputs": [],
   "source": [
    "real_data.export('train', '../data/asl_real/preprocessed', 'real')"
   ],
   "metadata": {
    "collapsed": false,
    "is_executing": true
   },
   "id": "f4696e4db5a9c6fb"
  },
  {
   "cell_type": "code",
   "execution_count": null,
   "outputs": [],
   "source": [
    "device_data.export('train', '../data/asl_device/preprocessed', 'device')"
   ],
   "metadata": {
    "collapsed": false,
    "is_executing": true
   },
   "id": "99138904b46c374"
  }
 ],
 "metadata": {
  "kernelspec": {
   "display_name": "Python 3",
   "language": "python",
   "name": "python3"
  },
  "language_info": {
   "codemirror_mode": {
    "name": "ipython",
    "version": 2
   },
   "file_extension": ".py",
   "mimetype": "text/x-python",
   "name": "python",
   "nbconvert_exporter": "python",
   "pygments_lexer": "ipython2",
   "version": "2.7.6"
  }
 },
 "nbformat": 4,
 "nbformat_minor": 5
}

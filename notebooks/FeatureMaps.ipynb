{
 "cells": [
  {
   "cell_type": "markdown",
   "source": [
    "# Intermediate feature maps"
   ],
   "metadata": {
    "collapsed": false
   }
  },
  {
   "cell_type": "code",
   "execution_count": 1,
   "outputs": [],
   "source": [
    "import os\n",
    "os.chdir('../')\n",
    "os.environ['TF_CPP_MIN_LOG_LEVEL'] = '2'"
   ],
   "metadata": {
    "collapsed": false,
    "ExecuteTime": {
     "end_time": "2023-07-25T17:22:59.058087078Z",
     "start_time": "2023-07-25T17:22:59.012675104Z"
    }
   }
  },
  {
   "cell_type": "code",
   "execution_count": 2,
   "outputs": [],
   "source": [
    "import numpy as np\n",
    "from model import Model"
   ],
   "metadata": {
    "collapsed": false,
    "ExecuteTime": {
     "end_time": "2023-07-25T17:23:00.199636504Z",
     "start_time": "2023-07-25T17:22:59.057950722Z"
    }
   }
  },
  {
   "cell_type": "code",
   "execution_count": 3,
   "outputs": [],
   "source": [
    "model = Model(num_classes=7)"
   ],
   "metadata": {
    "collapsed": false,
    "ExecuteTime": {
     "end_time": "2023-07-25T17:23:00.974876758Z",
     "start_time": "2023-07-25T17:23:00.201552736Z"
    }
   }
  },
  {
   "cell_type": "code",
   "execution_count": 4,
   "outputs": [
    {
     "name": "stdout",
     "output_type": "stream",
     "text": [
      "Model: \"sequential\"\n",
      "_________________________________________________________________\n",
      " Layer (type)                Output Shape              Param #   \n",
      "=================================================================\n",
      " preprocessing (Lambda)      (None, 96, 96, 3)         0         \n",
      "                                                                 \n",
      " mobilenet_0.10_96 (Sequent  (None, 3, 3, 102)         39881     \n",
      " ial)                                                            \n",
      "                                                                 \n",
      " pooling (GlobalMaxPooling2  (None, 102)               0         \n",
      " D)                                                              \n",
      "                                                                 \n",
      " classifier (Dense)          (None, 7)                 721       \n",
      "                                                                 \n",
      "=================================================================\n",
      "Total params: 40602 (158.60 KB)\n",
      "Trainable params: 721 (2.82 KB)\n",
      "Non-trainable params: 39881 (155.79 KB)\n",
      "_________________________________________________________________\n"
     ]
    }
   ],
   "source": [
    "model.summary('full')"
   ],
   "metadata": {
    "collapsed": false,
    "ExecuteTime": {
     "end_time": "2023-07-25T17:23:01.010999233Z",
     "start_time": "2023-07-25T17:23:00.976504612Z"
    }
   }
  },
  {
   "cell_type": "code",
   "execution_count": 5,
   "outputs": [],
   "source": [
    "# Get the output size of every layer in the model in a list\n",
    "base_model_maps = [layer.output_shape[1:] for layer in model.base_model.layers]\n",
    "full_model_maps = [layer.output_shape[1:] for layer in model.model.layers]\n",
    "intermediate_maps = base_model_maps + full_model_maps"
   ],
   "metadata": {
    "collapsed": false,
    "ExecuteTime": {
     "end_time": "2023-07-25T17:23:01.011116Z",
     "start_time": "2023-07-25T17:23:01.010682755Z"
    }
   }
  },
  {
   "cell_type": "code",
   "execution_count": 6,
   "outputs": [
    {
     "name": "stdout",
     "output_type": "stream",
     "text": [
      "[6912, 6912, 6912, 6912, 6912, 6912, 13824, 13824, 13824, 14406, 3456, 3456, 3456, 6912, 6912, 6912, 6912, 6912, 6912, 6912, 6912, 6912, 7500, 1728, 1728, 1728, 3600, 3600, 3600, 3600, 3600, 3600, 3600, 3600, 3600, 4225, 900, 900, 900, 1836, 1836, 1836, 1836, 1836, 1836, 1836, 1836, 1836, 1836, 1836, 1836, 1836, 1836, 1836, 1836, 1836, 1836, 1836, 1836, 1836, 1836, 1836, 1836, 1836, 1836, 1836, 1836, 1836, 1836, 1836, 1836, 1836, 2499, 459, 459, 459, 918, 918, 918, 918, 918, 918, 918, 918, 918, 27648, 918, 102, 7]\n"
     ]
    }
   ],
   "source": [
    "sizes = []\n",
    "for f_map in intermediate_maps:\n",
    "    # Return the product of all dimensions of the feature map\n",
    "    sizes.append(np.prod(f_map))\n",
    "print(sizes)"
   ],
   "metadata": {
    "collapsed": false,
    "ExecuteTime": {
     "end_time": "2023-07-25T17:23:01.011220539Z",
     "start_time": "2023-07-25T17:23:01.010843577Z"
    }
   }
  },
  {
   "cell_type": "code",
   "execution_count": 7,
   "outputs": [],
   "source": [
    "max_index = sizes.index(max(sizes))"
   ],
   "metadata": {
    "collapsed": false,
    "ExecuteTime": {
     "end_time": "2023-07-25T17:23:01.011313180Z",
     "start_time": "2023-07-25T17:23:01.010895438Z"
    }
   }
  },
  {
   "cell_type": "code",
   "execution_count": 8,
   "outputs": [
    {
     "name": "stdout",
     "output_type": "stream",
     "text": [
      "Largest feature map: 27648 values\n",
      "Assuming 32 bit per value: 108.0 KB\n"
     ]
    }
   ],
   "source": [
    "print(f'Largest feature map: {sizes[max_index]} values')\n",
    "size_max = sizes[max_index] * 32 / 8 / 1024\n",
    "print(f'Assuming 32 bit per value: {size_max} KB')"
   ],
   "metadata": {
    "collapsed": false,
    "ExecuteTime": {
     "end_time": "2023-07-25T17:23:01.011381021Z",
     "start_time": "2023-07-25T17:23:01.010927668Z"
    }
   }
  },
  {
   "cell_type": "code",
   "execution_count": 9,
   "outputs": [
    {
     "name": "stdout",
     "output_type": "stream",
     "text": [
      "Previous feature map: 3.5859375 KB\n",
      "Following feature map: 3.5859375 KB\n"
     ]
    }
   ],
   "source": [
    "size_previous = sizes[max_index - 1] * 32 / 8 / 1024\n",
    "size_following = sizes[max_index + 1] * 32 / 8 / 1024\n",
    "print(f'Previous feature map: {size_previous} KB')\n",
    "print(f'Following feature map: {size_following} KB')"
   ],
   "metadata": {
    "collapsed": false,
    "ExecuteTime": {
     "end_time": "2023-07-25T17:23:01.011435577Z",
     "start_time": "2023-07-25T17:23:01.011088644Z"
    }
   }
  },
  {
   "cell_type": "code",
   "execution_count": 10,
   "outputs": [
    {
     "name": "stdout",
     "output_type": "stream",
     "text": [
      "Total requirements: 111.5859375 KB\n"
     ]
    }
   ],
   "source": [
    "print(f'Total requirements: {size_max + max([size_previous, size_following])} KB')"
   ],
   "metadata": {
    "collapsed": false,
    "ExecuteTime": {
     "end_time": "2023-07-25T17:23:01.011491868Z",
     "start_time": "2023-07-25T17:23:01.011147456Z"
    }
   }
  },
  {
   "cell_type": "code",
   "execution_count": 11,
   "outputs": [
    {
     "name": "stdout",
     "output_type": "stream",
     "text": [
      "Total requirements when quantizing the first map: 30.5859375 KB\n"
     ]
    }
   ],
   "source": [
    "print(f'Total requirements when quantizing the first map: {size_max / 4 + max([size_previous, size_following])} KB')"
   ],
   "metadata": {
    "collapsed": false,
    "ExecuteTime": {
     "end_time": "2023-07-25T17:23:01.011542639Z",
     "start_time": "2023-07-25T17:23:01.011193945Z"
    }
   }
  },
  {
   "cell_type": "code",
   "execution_count": 12,
   "outputs": [
    {
     "name": "stdout",
     "output_type": "stream",
     "text": [
      "Total requirements when quantizing both maps: 27.896484375 KB\n"
     ]
    }
   ],
   "source": [
    "print(f'Total requirements when quantizing both maps: {size_max / 4 + max([size_previous, size_following]) / 4} KB')"
   ],
   "metadata": {
    "collapsed": false,
    "ExecuteTime": {
     "end_time": "2023-07-25T17:23:01.011596542Z",
     "start_time": "2023-07-25T17:23:01.011291057Z"
    }
   }
  },
  {
   "cell_type": "code",
   "execution_count": 12,
   "outputs": [],
   "source": [],
   "metadata": {
    "collapsed": false,
    "ExecuteTime": {
     "end_time": "2023-07-25T17:23:01.012527904Z",
     "start_time": "2023-07-25T17:23:01.011340070Z"
    }
   }
  }
 ],
 "metadata": {
  "kernelspec": {
   "display_name": "Python 3",
   "language": "python",
   "name": "python3"
  },
  "language_info": {
   "codemirror_mode": {
    "name": "ipython",
    "version": 2
   },
   "file_extension": ".py",
   "mimetype": "text/x-python",
   "name": "python",
   "nbconvert_exporter": "python",
   "pygments_lexer": "ipython2",
   "version": "2.7.6"
  }
 },
 "nbformat": 4,
 "nbformat_minor": 0
}
